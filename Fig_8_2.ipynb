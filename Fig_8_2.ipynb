{
 "cells": [
  {
   "cell_type": "code",
   "execution_count": 1,
   "metadata": {
    "collapsed": true
   },
   "outputs": [],
   "source": [
    "import numpy as np\n",
    "from control import matlab\n",
    "from matplotlib import pyplot as plt\n",
    "from scipy import arange "
   ]
  },
  {
   "cell_type": "code",
   "execution_count": 3,
   "metadata": {},
   "outputs": [
    {
     "name": "stdout",
     "output_type": "stream",
     "text": [
      "pole =  [-1.  2.]\n"
     ]
    }
   ],
   "source": [
    "#システムパラメータを与える\n",
    "A = np.array([[0.0, 1.0], [2.0,1.0]]) #行列A\n",
    "b = np.array([[0.0], [1.0]]) #ベクトルb\n",
    "c = np.array([[1.0, 0.0],[0.0,1.0]]) #x_{1}とx_{2}をプロットするためにcを単位行列にする\n",
    "d = np.array([[0.0],[0.0]]) #cに合わせてdは零ベクトルとする\n",
    "\n",
    "#システムの状態空間表現を与える\n",
    "sysP = matlab.ss(A, b, c, d)\n",
    "\n",
    "#システム行列Aの固有値を求める\n",
    "(eig, eig_vec) = np.linalg.eig(A)\n",
    "print(\"pole = \",eig)"
   ]
  },
  {
   "cell_type": "code",
   "execution_count": 6,
   "metadata": {
    "collapsed": true
   },
   "outputs": [],
   "source": [
    "#時間変数の定義\n",
    "t = arange(0, 10, 0.01) #0から5まで0.01刻み\n",
    "\n",
    "#システムの初期値を与える\n",
    "x0 = np.array([[1.0],[1.0]]) #x(0) = [1;1]'\n",
    "\n",
    "#初期値応答の計算\n",
    "y, t = matlab.initial(sysP, t, x0) #初期値応答を求める"
   ]
  },
  {
   "cell_type": "code",
   "execution_count": 7,
   "metadata": {},
   "outputs": [
    {
     "data": {
      "image/png": "[encoded data removed]",
      "text/plain": [
       "<matplotlib.figure.Figure at 0x11c6efc50>"
      ]
     },
     "metadata": {},
     "output_type": "display_data"
    }
   ],
   "source": [
    "# 図8.2の描画\n",
    "plt.plot(t, y[:,0], label = \"x_1(t)\")#x_{1}を抽出してplotする\n",
    "plt.plot(t, y[:,1], label = \"x_2(t)\")#x_{2}を抽出してplotする\n",
    "plt.xlim([0, 7]) #横軸（時間軸）の範囲の指定\n",
    "plt.ylim([0.0, 30000]) #縦軸の範囲の設定\n",
    "plt.grid(color='gray') #罫線を表示\n",
    "plt.xlabel(\"time   t[s]\") #横軸のラベル表示\n",
    "plt.ylabel(\"y(t)\") #縦軸のラベル表示\n",
    "plt.legend() #凡例の表示\n",
    "plt.show() #グラフの表示"
   ]
  }
 ],
 "metadata": {
  "kernelspec": {
   "display_name": "Python 3",
   "language": "python",
   "name": "python3"
  },
  "language_info": {
   "codemirror_mode": {
    "name": "ipython",
    "version": 3
   },
   "file_extension": ".py",
   "mimetype": "text/x-python",
   "name": "python",
   "nbconvert_exporter": "python",
   "pygments_lexer": "ipython3",
   "version": "3.6.1"
  }
 },
 "nbformat": 4,
 "nbformat_minor": 2
}
