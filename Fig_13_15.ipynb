{
 "cells": [
  {
   "cell_type": "code",
   "execution_count": 22,
   "metadata": {
    "collapsed": true
   },
   "outputs": [],
   "source": [
    "import numpy as np\n",
    "import sympy as sym\n",
    "from control import matlab\n",
    "from matplotlib import pyplot as plt\n",
    "from scipy import arange "
   ]
  },
  {
   "cell_type": "code",
   "execution_count": 23,
   "metadata": {
    "collapsed": true
   },
   "outputs": [],
   "source": [
    "#マスーばねーダンパシステムの定義\n",
    "M = 1.0\n",
    "D = 5.0\n",
    "K = 6.0\n",
    "A = np.array([[0.0, 1.0], [-K/M, -D/M]]) #行列A\n",
    "b = np.array([[0.0], [1/M]]) #ベクトルb\n",
    "c = np.array([[1.0, 0.0]]) #ベクトルc\n",
    "d = 0 #スカラーd"
   ]
  },
  {
   "cell_type": "code",
   "execution_count": 24,
   "metadata": {
    "collapsed": true
   },
   "outputs": [],
   "source": [
    "#拡大システム(13.32)式の構成\n",
    "A12 = np.array([[0.0],[0.0]])\n",
    "A21 = np.array([[-1.0, 0.0]])\n",
    "A22 = np.array([[0.0]])\n",
    "AE11 = np.concatenate((A, A12), axis=1)\n",
    "AE21 = np.concatenate((-c,A22), axis=1)\n",
    "\n",
    "AE = np.concatenate((AE11,AE21), axis=0)\n",
    "\n",
    "bE21 = np.array([[0.0]])\n",
    "bE = np.concatenate((b,bE21), axis=0)"
   ]
  },
  {
   "cell_type": "code",
   "execution_count": 25,
   "metadata": {},
   "outputs": [
    {
     "name": "stdout",
     "output_type": "stream",
     "text": [
      "feedback gain = [[ 21.   4. -27.]]\n"
     ]
    }
   ],
   "source": [
    "#閉ループシステムの極の指定\n",
    "poles = [-3.0, -3.0, -3.0]\n",
    "fE = matlab.acker(AE, bE, poles)#状態フィードバックベクトルを求める\n",
    "print(\"feedback gain =\", fE)"
   ]
  },
  {
   "cell_type": "code",
   "execution_count": 26,
   "metadata": {
    "collapsed": true
   },
   "outputs": [],
   "source": [
    "#(13.35)式のf*とg*を求める\n",
    "ff = np.concatenate((fE[:,0],fE[:,1]), axis=1) #f*\n",
    "fg = fE[:,2] #g*"
   ]
  },
  {
   "cell_type": "code",
   "execution_count": 27,
   "metadata": {
    "collapsed": true,
    "scrolled": false
   },
   "outputs": [],
   "source": [
    "# (13.36)式の閉ループシステムの状態空間表現\n",
    "AEc11 = A - b*ff\n",
    "AEc12 = b*(-fg)\n",
    "AEc21 = -c\n",
    "AEc22 = np.array([[0.0]])\n",
    "AEcc11 = np.concatenate((AEc11, AEc12), axis=1)\n",
    "AEcc21 = np.concatenate((AEc21,AEc22), axis=1)\n",
    "bEc21 = np.array([[1.0]]) #(13.36)式のr(t)の部分\n",
    "\n",
    "AEc = np.concatenate((AEcc11,AEcc21), axis=0)\n",
    "bEc = np.concatenate((b,bEc21), axis=0)\n",
    "cEc = np.array([[1.0, 0.0, 0.0],[0.0,1.0, 0.0]])#x_{1}とx_{2}をプロットするためにCを単位行列にする\n",
    "dEc = np.array([[0.0],[0.0]])#Cに合わせてDは零ベクトルとする\n",
    "\n",
    "sysE_s_c = matlab.ss(AEc, bEc, cEc, dEc) #(12.36)式の状態空間表現を求める\n",
    "(y_Es_c, t_Es_c) = matlab.step(sysE_s_c, T = arange(0, 5, 0.01), X0 = np.array([[-1.0],[0.0],[0.0]])) #初期条件を与えてステップ応答を計算"
   ]
  },
  {
   "cell_type": "code",
   "execution_count": 28,
   "metadata": {},
   "outputs": [
    {
     "data": {
      "image/png": "[encoded data removed]",
      "text/plain": [
       "<matplotlib.figure.Figure at 0x1185dab38>"
      ]
     },
     "metadata": {},
     "output_type": "display_data"
    }
   ],
   "source": [
    "# 図13.15の描画\n",
    "plt.plot(t_Es_c, y_Es_c[:,0], label = \"x_1(t)\")#FBによるx_{1}を抽出してplotする\n",
    "plt.plot(t_Es_c, y_Es_c[:,1], label = \"x_2(t)\")#FBによるx_{2}を抽出してplotする\n",
    "plt.xlim([0,5]) #横軸（時間軸）の範囲の指定\n",
    "plt.ylim([-1.0, 3.0]) #縦軸の範囲の設定\n",
    "plt.grid(color='gray') #罫線を表示\n",
    "plt.xlabel(\"time   t[s]\") #横軸のラベル表示\n",
    "plt.ylabel(\"output\") #縦軸のラベル表示\n",
    "plt.legend() #凡例の表示\n",
    "plt.show() #グラフの表示"
   ]
  }
 ],
 "metadata": {
  "kernelspec": {
   "display_name": "Python 3",
   "language": "python",
   "name": "python3"
  },
  "language_info": {
   "codemirror_mode": {
    "name": "ipython",
    "version": 3
   },
   "file_extension": ".py",
   "mimetype": "text/x-python",
   "name": "python",
   "nbconvert_exporter": "python",
   "pygments_lexer": "ipython3",
   "version": "3.6.1"
  }
 },
 "nbformat": 4,
 "nbformat_minor": 2
}
