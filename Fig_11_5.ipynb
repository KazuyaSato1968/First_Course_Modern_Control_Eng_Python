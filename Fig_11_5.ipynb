{
 "cells": [
  {
   "cell_type": "code",
   "execution_count": 1,
   "metadata": {
    "collapsed": true
   },
   "outputs": [],
   "source": [
    "import numpy as np\n",
    "import sympy as sym\n",
    "from control import matlab\n",
    "from matplotlib import pyplot as plt\n",
    "from scipy import arange "
   ]
  },
  {
   "cell_type": "code",
   "execution_count": 2,
   "metadata": {
    "collapsed": true
   },
   "outputs": [],
   "source": [
    "#システムパラメータを与える\n",
    "A = np.array([[0.0, 1.0], [-6.0,-5.0]]) #行列A\n",
    "b = np.array([[0.0], [1.0]]) #ベクトルb\n",
    "c = np.array([[1.0, 0.0]]) #ベクトルc\n",
    "d = 0 #スカラーd"
   ]
  },
  {
   "cell_type": "code",
   "execution_count": 3,
   "metadata": {},
   "outputs": [
    {
     "name": "stdout",
     "output_type": "stream",
     "text": [
      "observer gain = [[ 12.]\n",
      " [  6.]]\n"
     ]
    }
   ],
   "source": [
    "#配置するオブザーバの極を与える\n",
    "op = [-8,-9] #-4，-5をオブザーバの極とする\n",
    "\n",
    "#オブザーバゲインを求める．双対システムA^Tとc^Tの状態フィードバックゲインを求め，転置を取るとオブザーバゲインとなる\n",
    "h = matlab.place(A.T, c.T, op).T #双対システムで極配置し，転置を求める\n",
    "print(\"observer gain =\", h) #オブザーバゲインの表示"
   ]
  },
  {
   "cell_type": "code",
   "execution_count": 4,
   "metadata": {
    "scrolled": true
   },
   "outputs": [
    {
     "name": "stdout",
     "output_type": "stream",
     "text": [
      "Ah =  [[-12.   1.]\n",
      " [-12.  -5.]]\n",
      "observer pole = [-9. -8.]\n"
     ]
    }
   ],
   "source": [
    "#Ah = A-hcとオブザーバの極の計算と表示\n",
    "Ah = A - h*c #Ah = A-hcの計算\n",
    "(eig_obs, eig_vec_obs) = np.linalg.eig(Ah) #Ahの固有値を求める\n",
    "print('Ah = ',Ah) #Ahを表示\n",
    "print('observer pole =',eig_obs) #オブザーバの極を表示"
   ]
  },
  {
   "cell_type": "code",
   "execution_count": 5,
   "metadata": {
    "collapsed": true
   },
   "outputs": [],
   "source": [
    "#システムとオブザーバ（誤差システム（11.15)式）の状態空間表現を求める\n",
    "cc = np.array([[1.0, 0.0],[0.0,1.0]])#状態変数をプロットするためにcを単位行列にする\n",
    "dd = np.array([[0.0],[0.0]])#cに合わせてdを零ベクトルとする\n",
    "\n",
    "sys = matlab.ss(A, b, cc, dd) #システムの状態空間表現\n",
    "e_sys = matlab.ss(Ah, b, cc, dd) #誤差システムの状態空間表現"
   ]
  },
  {
   "cell_type": "code",
   "execution_count": 6,
   "metadata": {
    "collapsed": true
   },
   "outputs": [],
   "source": [
    "#時間変数の定義\n",
    "t = arange(0, 10, 0.01) #0から10まで0.01刻み\n",
    "\n",
    "#システムとオブザーバの初期値を与える\n",
    "x0 = np.array([[1.0],[1.0]]) #x(0) = [1;1]'\n",
    "x0_ob = np.array([[0.0],[0.0]])  #xob(0) = [0;0]'\n",
    "\n",
    "#初期値応答の計算\n",
    "y, t = matlab.initial(sys, t, x0) #システムの初期値応答\n",
    "e, t = matlab.initial(e_sys, t, x0_ob-x0) #誤差システムの初期値応答\n",
    "\n",
    "#オブザーバの状態を求める\n",
    "h_x = e + y #e(t) = hat{x}(t) - x(t)よりhat{x}を求める"
   ]
  },
  {
   "cell_type": "code",
   "execution_count": 7,
   "metadata": {},
   "outputs": [
    {
     "data": {
      "image/png": "[encoded data removed]",
      "text/plain": [
       "<matplotlib.figure.Figure at 0x112305208>"
      ]
     },
     "metadata": {},
     "output_type": "display_data"
    }
   ],
   "source": [
    "# 図11.5(a)のプロット\n",
    "plt.plot(t, y[:,0], label = \"x_1(t)\")#x_{1}を抽出してplotする\n",
    "plt.plot(t, y[:,1], label = \"x_2(t)\")#x_{2}を抽出してplotする\n",
    "plt.plot(t, h_x[:,0], label = \"hat{x}_1(t)\")#hat{x}_{1}を抽出してplotする\n",
    "plt.plot(t, h_x[:,1], label = \"hat{x}_2(t)\")#hat{x}_{2}を抽出してplotする\n",
    "plt.xlim([0,10]) #横軸（時間軸）の範囲の指定\n",
    "plt.ylim([-1.0, 3.0]) #縦軸の範囲の設定\n",
    "plt.grid(color='gray') #罫線を表示\n",
    "plt.xlabel(\"time   t[s]\") #横軸のラベル表示\n",
    "plt.ylabel(\"state\") #縦軸のラベル表示\n",
    "plt.legend() #凡例の表示\n",
    "plt.show() #グラフの表示"
   ]
  },
  {
   "cell_type": "code",
   "execution_count": 8,
   "metadata": {},
   "outputs": [
    {
     "data": {
      "image/png": "[encoded data removed]",
      "text/plain": [
       "<matplotlib.figure.Figure at 0x1122f3c88>"
      ]
     },
     "metadata": {},
     "output_type": "display_data"
    }
   ],
   "source": [
    "# 図11.5(b)の描画\n",
    "plt.plot(t, e[:,0], label = \"e_1(t)\")#e_{1}を抽出してplotする\n",
    "plt.plot(t, e[:,1], label = \"e_2(t)\")#e_{2}を抽出してplotする\n",
    "plt.xlim([0,10]) #横軸（時間軸）の範囲の指定\n",
    "plt.ylim([-2.0, 4.0]) #縦軸の範囲の設定\n",
    "plt.grid(color='gray') #罫線を表示\n",
    "plt.xlabel(\"time   t[s]\") #横軸のラベル表示\n",
    "plt.ylabel(\"state\") #縦軸のラベル表示\n",
    "plt.legend() #凡例の表示\n",
    "plt.show() #グラフの表示"
   ]
  }
 ],
 "metadata": {
  "kernelspec": {
   "display_name": "Python 3",
   "language": "python",
   "name": "python3"
  },
  "language_info": {
   "codemirror_mode": {
    "name": "ipython",
    "version": 3
   },
   "file_extension": ".py",
   "mimetype": "text/x-python",
   "name": "python",
   "nbconvert_exporter": "python",
   "pygments_lexer": "ipython3",
   "version": "3.6.1"
  }
 },
 "nbformat": 4,
 "nbformat_minor": 2
}
